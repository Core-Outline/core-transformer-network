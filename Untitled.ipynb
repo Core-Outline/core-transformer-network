{
 "cells": [
  {
   "cell_type": "code",
   "execution_count": 4,
   "id": "f7c306a2",
   "metadata": {},
   "outputs": [],
   "source": [
    "import wikipedia"
   ]
  },
  {
   "cell_type": "code",
   "execution_count": 9,
   "id": "904bd1df",
   "metadata": {},
   "outputs": [],
   "source": [
    "page = wikipedia.page(\"Churn Rate\")\n"
   ]
  },
  {
   "cell_type": "code",
   "execution_count": 11,
   "id": "50cd378b",
   "metadata": {},
   "outputs": [
    {
     "data": {
      "text/plain": [
       "'Churn rate (sometimes called attrition rate), in its broadest sense, is a measure of the number of individuals or items moving out of a collective group over a specific period. It is one of two primary factors that determine the steady-state level of customers a business will support.Derived from the butter churn, the term is used in many contexts but most widely applied in business with respect to a contractual customer base. Examples include a subscriber-based service model as used by mobile telephone networks and pay TV operators. The term is often synonymous with turnover, for example participant turnover in peer-to-peer networks. Churn rate is an input into customer lifetime value modeling, and can be part of a simulator used to measure return on marketing investment using marketing mix modeling.\\n\\n\\n== Customer base churn ==\\n\\nChurn rate, when applied to a customer base, refers to the proportion of contractual customers or subscribers who leave a supplier during a given time period. It is a possible indicator of customer dissatisfaction, cheaper and/or better offers from the competition, more successful sales and/or marketing by the competition, or reasons having to do with the customer life cycle.\\nChurn is closely related to the concept of average customer life time. For example, an annual churn rate of 25 percent implies an average customer life of four years. An annual churn rate of 33 percent implies an average customer life of three years. The churn rate can be minimized by creating barriers which discourage customers to change suppliers (contractual binding periods, use of proprietary technology, value-added services, unique business models, etc.), or through retention activities such as loyalty programs. It is possible to overstate the churn rate, as when a consumer drops the service but then restarts it within the same year. Thus, a clear distinction needs to be made between \"gross churn\", the total number of absolute disconnections, and \"net churn\", the overall loss of subscribers or members. The difference between the two measures is the number of new subscribers or members that have joined during the same period. Suppliers may find that if they offer a loss-leader \"introductory special\", it can lead to a higher churn rate and subscriber abuse, as some subscribers will sign on, let the service lapse, then sign on again to take continuous advantage of current specials.\\nWhen talking about subscribers or customers, sometimes the expression \"survival rate\" is used to mean 1 minus the churn rate. For example, for a group of subscribers, an annual churn rate of 25 percent is the same as an annual survival rate of 75 percent. Both imply a customer lifetime of four years. I.e., a customer lifetime can be calculated as the inverse of that customer\\'s predicted churn rate. For a group or segment of customers, their customer life (or tenure) is the inverse of their aggregate churn rate. Gompertz distribution models of distribution of customer life times can therefore also predict a distribution of churn rates.\\nFor companies with a fast-growing customer base (e.g., digital media companies in a BCG-matrix problem child or star phase), confusion can arise between the statistical analyses associated with what percentage of the whole customer base churns in a given year – What percentage of the base of subscribers in all of 2010 churned out? – versus a particular customer cohort\\'s churn rate.\\nFor example: Taking those customers who subscribed in given month, say January 2010 – How many had churned out by January 2011?\\nExamining churn for a fast-growing aggregated customer base will understate the true churn rate compared to cohort based approach to the calculation.\\nThe cohort based approach will also allow you to calculate the survival rate and the average customer life, whereas the aggregate approach can not calculate these two metrics. \\nResearchers at Deloitte have argued that social network analysis is a good tool to calculate churn.In recent years, using AI and machine-learning as a means to calculate customer churn has become increasingly common for large retailers and service providers.The phrase \"rotational churn\" is used to describe the phenomenon where a customer churns and immediately rejoins. This is common in prepaid mobile phone services, where existing customers may take up a new subscription from their current provider in order to avail of special offers only available to new customers.\\nIn most circumstances churn is seen as indicating that customers are dissatisfied with a service. However, in some industries whose services delivers on a promise, churn is considered as a positive signal, such as the health care services, weight loss services and online dating platforms. Some researchers have disputed the simple assumption that just dissatisfaction would lead customers to churn, and called for a more nuanced approach.\\n\\n\\n== See also ==\\nTurnover (employment)\\nCustomer attrition\\nCustomer retention\\nTurnover\\n\\n\\n== References ==\\n\\n\\n== Further reading ==\\nBerry and Linoff, Michael J.A. and Gordon S. (2000). Mastering Data Mining: The Art and Science of Customer Relationship Management. John Wiley & Sons. ISBN 0-471-33123-6.\\nCached Insight paper on churn in the mobile communications industry.'"
      ]
     },
     "execution_count": 11,
     "metadata": {},
     "output_type": "execute_result"
    }
   ],
   "source": [
    "page.content"
   ]
  },
  {
   "cell_type": "code",
   "execution_count": 16,
   "id": "a349c015",
   "metadata": {},
   "outputs": [
    {
     "name": "stdout",
     "output_type": "stream",
     "text": [
      "Collecting convokit\n",
      "  Using cached convokit-2.5.3-py3-none-any.whl\n",
      "Requirement already satisfied: unidecode>=1.1.1 in c:\\python310\\lib\\site-packages (from convokit) (1.3.6)\n",
      "Requirement already satisfied: dill>=0.2.9 in c:\\users\\tsuma thomas\\appdata\\roaming\\python\\python310\\site-packages (from convokit) (0.3.6)\n",
      "Requirement already satisfied: clean-text>=0.1.1 in c:\\users\\tsuma thomas\\appdata\\roaming\\python\\python310\\site-packages (from convokit) (0.6.0)\n",
      "Requirement already satisfied: scikit-learn>=0.20.0 in c:\\users\\tsuma thomas\\appdata\\roaming\\python\\python310\\site-packages (from convokit) (1.1.2)\n",
      "Requirement already satisfied: nltk>=3.4 in c:\\users\\tsuma thomas\\appdata\\roaming\\python\\python310\\site-packages (from convokit) (3.7)\n",
      "Requirement already satisfied: matplotlib>=3.0.0 in c:\\users\\tsuma thomas\\appdata\\roaming\\python\\python310\\site-packages (from convokit) (3.5.3)\n",
      "Requirement already satisfied: pandas>=0.23.4 in c:\\users\\tsuma thomas\\appdata\\roaming\\python\\python310\\site-packages (from convokit) (1.4.3)\n",
      "Requirement already satisfied: joblib>=0.13.2 in c:\\users\\tsuma thomas\\appdata\\roaming\\python\\python310\\site-packages (from convokit) (1.1.0)\n",
      "Collecting spacy>=2.3.5\n",
      "  Using cached spacy-3.5.2-cp310-cp310-win_amd64.whl (12.2 MB)\n",
      "Requirement already satisfied: scipy>=1.1.0 in c:\\users\\tsuma thomas\\appdata\\roaming\\python\\python310\\site-packages (from convokit) (1.9.0)\n",
      "Requirement already satisfied: msgpack-numpy>=0.4.3.2 in c:\\users\\tsuma thomas\\appdata\\roaming\\python\\python310\\site-packages (from convokit) (0.4.8)\n",
      "Requirement already satisfied: emoji<2.0.0,>=1.0.0 in c:\\python310\\lib\\site-packages (from clean-text>=0.1.1->convokit) (1.7.0)\n",
      "Requirement already satisfied: ftfy<7.0,>=6.0 in c:\\users\\tsuma thomas\\appdata\\roaming\\python\\python310\\site-packages (from clean-text>=0.1.1->convokit) (6.1.1)\n",
      "Requirement already satisfied: fonttools>=4.22.0 in c:\\users\\tsuma thomas\\appdata\\roaming\\python\\python310\\site-packages (from matplotlib>=3.0.0->convokit) (4.36.0)\n",
      "Requirement already satisfied: cycler>=0.10 in c:\\users\\tsuma thomas\\appdata\\roaming\\python\\python310\\site-packages (from matplotlib>=3.0.0->convokit) (0.11.0)\n",
      "Requirement already satisfied: packaging>=20.0 in c:\\users\\tsuma thomas\\appdata\\roaming\\python\\python310\\site-packages (from matplotlib>=3.0.0->convokit) (21.3)\n",
      "Requirement already satisfied: pillow>=6.2.0 in c:\\users\\tsuma thomas\\appdata\\roaming\\python\\python310\\site-packages (from matplotlib>=3.0.0->convokit) (9.2.0)\n",
      "Requirement already satisfied: numpy>=1.17 in c:\\users\\tsuma thomas\\appdata\\roaming\\python\\python310\\site-packages (from matplotlib>=3.0.0->convokit) (1.23.2)\n",
      "Requirement already satisfied: pyparsing>=2.2.1 in c:\\users\\tsuma thomas\\appdata\\roaming\\python\\python310\\site-packages (from matplotlib>=3.0.0->convokit) (3.0.9)\n",
      "Requirement already satisfied: python-dateutil>=2.7 in c:\\users\\tsuma thomas\\appdata\\roaming\\python\\python310\\site-packages (from matplotlib>=3.0.0->convokit) (2.8.2)\n",
      "Requirement already satisfied: kiwisolver>=1.0.1 in c:\\users\\tsuma thomas\\appdata\\roaming\\python\\python310\\site-packages (from matplotlib>=3.0.0->convokit) (1.4.4)\n",
      "Requirement already satisfied: msgpack>=0.5.2 in c:\\users\\tsuma thomas\\appdata\\roaming\\python\\python310\\site-packages (from msgpack-numpy>=0.4.3.2->convokit) (1.0.4)\n",
      "Requirement already satisfied: click in c:\\python310\\lib\\site-packages (from nltk>=3.4->convokit) (8.1.3)\n",
      "Requirement already satisfied: regex>=2021.8.3 in c:\\users\\tsuma thomas\\appdata\\roaming\\python\\python310\\site-packages (from nltk>=3.4->convokit) (2022.8.17)\n",
      "Requirement already satisfied: tqdm in c:\\users\\tsuma thomas\\appdata\\roaming\\python\\python310\\site-packages (from nltk>=3.4->convokit) (4.64.0)\n",
      "Requirement already satisfied: pytz>=2020.1 in c:\\users\\tsuma thomas\\appdata\\roaming\\python\\python310\\site-packages (from pandas>=0.23.4->convokit) (2022.2.1)\n",
      "Requirement already satisfied: threadpoolctl>=2.0.0 in c:\\users\\tsuma thomas\\appdata\\roaming\\python\\python310\\site-packages (from scikit-learn>=0.20.0->convokit) (3.1.0)\n",
      "Requirement already satisfied: langcodes<4.0.0,>=3.2.0 in c:\\users\\tsuma thomas\\appdata\\roaming\\python\\python310\\site-packages (from spacy>=2.3.5->convokit) (3.3.0)\n",
      "Requirement already satisfied: pydantic!=1.8,!=1.8.1,<1.11.0,>=1.7.4 in c:\\users\\tsuma thomas\\appdata\\roaming\\python\\python310\\site-packages (from spacy>=2.3.5->convokit) (1.10.7)\n",
      "Requirement already satisfied: setuptools in c:\\python310\\lib\\site-packages (from spacy>=2.3.5->convokit) (63.2.0)\n",
      "Requirement already satisfied: cymem<2.1.0,>=2.0.2 in c:\\python310\\lib\\site-packages (from spacy>=2.3.5->convokit) (2.0.7)\n",
      "Requirement already satisfied: smart-open<7.0.0,>=5.2.1 in c:\\users\\tsuma thomas\\appdata\\roaming\\python\\python310\\site-packages (from spacy>=2.3.5->convokit) (6.3.0)\n",
      "Requirement already satisfied: typer<0.8.0,>=0.3.0 in c:\\users\\tsuma thomas\\appdata\\roaming\\python\\python310\\site-packages (from spacy>=2.3.5->convokit) (0.7.0)\n",
      "Requirement already satisfied: spacy-loggers<2.0.0,>=1.0.0 in c:\\users\\tsuma thomas\\appdata\\roaming\\python\\python310\\site-packages (from spacy>=2.3.5->convokit) (1.0.4)\n",
      "Requirement already satisfied: thinc<8.2.0,>=8.1.8 in c:\\users\\tsuma thomas\\appdata\\roaming\\python\\python310\\site-packages (from spacy>=2.3.5->convokit) (8.1.10)\n",
      "Requirement already satisfied: wasabi<1.2.0,>=0.9.1 in c:\\users\\tsuma thomas\\appdata\\roaming\\python\\python310\\site-packages (from spacy>=2.3.5->convokit) (1.1.1)\n",
      "Requirement already satisfied: srsly<3.0.0,>=2.4.3 in c:\\users\\tsuma thomas\\appdata\\roaming\\python\\python310\\site-packages (from spacy>=2.3.5->convokit) (2.4.6)\n",
      "Requirement already satisfied: jinja2 in c:\\users\\tsuma thomas\\appdata\\roaming\\python\\python310\\site-packages (from spacy>=2.3.5->convokit) (3.1.2)\n",
      "Requirement already satisfied: pathy>=0.10.0 in c:\\users\\tsuma thomas\\appdata\\roaming\\python\\python310\\site-packages (from spacy>=2.3.5->convokit) (0.10.1)\n",
      "Requirement already satisfied: catalogue<2.1.0,>=2.0.6 in c:\\users\\tsuma thomas\\appdata\\roaming\\python\\python310\\site-packages (from spacy>=2.3.5->convokit) (2.0.8)\n",
      "Requirement already satisfied: preshed<3.1.0,>=3.0.2 in c:\\users\\tsuma thomas\\appdata\\roaming\\python\\python310\\site-packages (from spacy>=2.3.5->convokit) (3.0.8)\n",
      "Requirement already satisfied: requests<3.0.0,>=2.13.0 in c:\\users\\tsuma thomas\\appdata\\roaming\\python\\python310\\site-packages (from spacy>=2.3.5->convokit) (2.28.1)\n",
      "Requirement already satisfied: spacy-legacy<3.1.0,>=3.0.11 in c:\\users\\tsuma thomas\\appdata\\roaming\\python\\python310\\site-packages (from spacy>=2.3.5->convokit) (3.0.12)\n",
      "Requirement already satisfied: murmurhash<1.1.0,>=0.28.0 in c:\\users\\tsuma thomas\\appdata\\roaming\\python\\python310\\site-packages (from spacy>=2.3.5->convokit) (1.0.9)\n",
      "Requirement already satisfied: wcwidth>=0.2.5 in c:\\users\\tsuma thomas\\appdata\\roaming\\python\\python310\\site-packages (from ftfy<7.0,>=6.0->clean-text>=0.1.1->convokit) (0.2.5)\n",
      "Requirement already satisfied: typing-extensions>=4.2.0 in c:\\users\\tsuma thomas\\appdata\\roaming\\python\\python310\\site-packages (from pydantic!=1.8,!=1.8.1,<1.11.0,>=1.7.4->spacy>=2.3.5->convokit) (4.3.0)\n",
      "Requirement already satisfied: six>=1.5 in c:\\users\\tsuma thomas\\appdata\\roaming\\python\\python310\\site-packages (from python-dateutil>=2.7->matplotlib>=3.0.0->convokit) (1.16.0)\n",
      "Requirement already satisfied: charset-normalizer<3,>=2 in c:\\python310\\lib\\site-packages (from requests<3.0.0,>=2.13.0->spacy>=2.3.5->convokit) (2.1.1)\n",
      "Requirement already satisfied: certifi>=2017.4.17 in c:\\users\\tsuma thomas\\appdata\\roaming\\python\\python310\\site-packages (from requests<3.0.0,>=2.13.0->spacy>=2.3.5->convokit) (2022.6.15)\n",
      "Requirement already satisfied: urllib3<1.27,>=1.21.1 in c:\\python310\\lib\\site-packages (from requests<3.0.0,>=2.13.0->spacy>=2.3.5->convokit) (1.26.12)\n",
      "Requirement already satisfied: idna<4,>=2.5 in c:\\users\\tsuma thomas\\appdata\\roaming\\python\\python310\\site-packages (from requests<3.0.0,>=2.13.0->spacy>=2.3.5->convokit) (3.3)\n",
      "Requirement already satisfied: blis<0.8.0,>=0.7.8 in c:\\users\\tsuma thomas\\appdata\\roaming\\python\\python310\\site-packages (from thinc<8.2.0,>=8.1.8->spacy>=2.3.5->convokit) (0.7.9)\n",
      "Requirement already satisfied: confection<1.0.0,>=0.0.1 in c:\\users\\tsuma thomas\\appdata\\roaming\\python\\python310\\site-packages (from thinc<8.2.0,>=8.1.8->spacy>=2.3.5->convokit) (0.0.4)\n",
      "Requirement already satisfied: colorama in c:\\users\\tsuma thomas\\appdata\\roaming\\python\\python310\\site-packages (from tqdm->nltk>=3.4->convokit) (0.4.6)\n",
      "Requirement already satisfied: MarkupSafe>=2.0 in c:\\users\\tsuma thomas\\appdata\\roaming\\python\\python310\\site-packages (from jinja2->spacy>=2.3.5->convokit) (2.1.1)\n",
      "Installing collected packages: spacy, convokit\n",
      "Successfully installed convokit-2.5.3 spacy-3.5.2\n"
     ]
    },
    {
     "name": "stderr",
     "output_type": "stream",
     "text": [
      "  WARNING: The script spacy.exe is installed in 'C:\\Users\\Tsuma Thomas\\AppData\\Roaming\\Python\\Python310\\Scripts' which is not on PATH.\n",
      "  Consider adding this directory to PATH or, if you prefer to suppress this warning, use --no-warn-script-location.\n",
      "\n",
      "[notice] A new release of pip available: 22.3.1 -> 23.1.2\n",
      "[notice] To update, run: python.exe -m pip install --upgrade pip\n"
     ]
    }
   ],
   "source": [
    "!pip install convokit --user\n"
   ]
  },
  {
   "cell_type": "code",
   "execution_count": 20,
   "id": "cd5525db",
   "metadata": {},
   "outputs": [],
   "source": [
    "from convokit import Corpus, download"
   ]
  },
  {
   "cell_type": "code",
   "execution_count": 21,
   "id": "257bc691",
   "metadata": {},
   "outputs": [
    {
     "name": "stdout",
     "output_type": "stream",
     "text": [
      "Downloading movie-corpus to C:\\Users\\Tsuma Thomas\\.convokit\\downloads\\movie-corpus\n",
      "Downloading movie-corpus from http://zissou.infosci.cornell.edu/convokit/datasets/movie-corpus/movie-corpus.zip (40.9MB)... "
     ]
    },
    {
     "ename": "KeyboardInterrupt",
     "evalue": "",
     "output_type": "error",
     "traceback": [
      "\u001b[1;31m---------------------------------------------------------------------------\u001b[0m",
      "\u001b[1;31mKeyboardInterrupt\u001b[0m                         Traceback (most recent call last)",
      "Input \u001b[1;32mIn [21]\u001b[0m, in \u001b[0;36m<cell line: 1>\u001b[1;34m()\u001b[0m\n\u001b[1;32m----> 1\u001b[0m corpus \u001b[38;5;241m=\u001b[39m Corpus(filename\u001b[38;5;241m=\u001b[39m\u001b[43mdownload\u001b[49m\u001b[43m(\u001b[49m\u001b[38;5;124;43m\"\u001b[39;49m\u001b[38;5;124;43mmovie-corpus\u001b[39;49m\u001b[38;5;124;43m\"\u001b[39;49m\u001b[43m)\u001b[49m)\n",
      "File \u001b[1;32m~\\AppData\\Roaming\\Python\\Python310\\site-packages\\convokit\\util.py:159\u001b[0m, in \u001b[0;36mdownload\u001b[1;34m(name, verbose, data_dir, use_newest_version, use_local)\u001b[0m\n\u001b[0;32m    157\u001b[0m     \u001b[38;5;28;01melse\u001b[39;00m:\n\u001b[0;32m    158\u001b[0m         url \u001b[38;5;241m=\u001b[39m DatasetURLs[name]\n\u001b[1;32m--> 159\u001b[0m         \u001b[43m_download_helper\u001b[49m\u001b[43m(\u001b[49m\u001b[43mdataset_path\u001b[49m\u001b[43m,\u001b[49m\u001b[43m \u001b[49m\u001b[43murl\u001b[49m\u001b[43m,\u001b[49m\u001b[43m \u001b[49m\u001b[43mverbose\u001b[49m\u001b[43m,\u001b[49m\u001b[43m \u001b[49m\u001b[43mname\u001b[49m\u001b[43m,\u001b[49m\u001b[43m \u001b[49m\u001b[43mdownloadeds_path\u001b[49m\u001b[43m)\u001b[49m\n\u001b[0;32m    160\u001b[0m \u001b[38;5;28;01melse\u001b[39;00m:\n\u001b[0;32m    162\u001b[0m     \u001b[38;5;28mprint\u001b[39m(\u001b[38;5;124m\"\u001b[39m\u001b[38;5;124mDataset already exists at \u001b[39m\u001b[38;5;132;01m{}\u001b[39;00m\u001b[38;5;124m\"\u001b[39m\u001b[38;5;241m.\u001b[39mformat(dataset_path))\n",
      "File \u001b[1;32m~\\AppData\\Roaming\\Python\\Python310\\site-packages\\convokit\\util.py:233\u001b[0m, in \u001b[0;36m_download_helper\u001b[1;34m(dataset_path, url, verbose, name, downloadeds_path)\u001b[0m\n\u001b[0;32m    228\u001b[0m         length \u001b[38;5;241m=\u001b[39m \u001b[38;5;28mstr\u001b[39m(\u001b[38;5;28mround\u001b[39m(length \u001b[38;5;241m/\u001b[39m \u001b[38;5;241m1e6\u001b[39m, \u001b[38;5;241m1\u001b[39m)) \u001b[38;5;241m+\u001b[39m \u001b[38;5;124m\"\u001b[39m\u001b[38;5;124mMB\u001b[39m\u001b[38;5;124m\"\u001b[39m \\\n\u001b[0;32m    229\u001b[0m             \u001b[38;5;28;01mif\u001b[39;00m length \u001b[38;5;241m>\u001b[39m \u001b[38;5;241m1e6\u001b[39m \u001b[38;5;28;01melse\u001b[39;00m \\\n\u001b[0;32m    230\u001b[0m             \u001b[38;5;28mstr\u001b[39m(\u001b[38;5;28mround\u001b[39m(length \u001b[38;5;241m/\u001b[39m \u001b[38;5;241m1e3\u001b[39m, \u001b[38;5;241m1\u001b[39m)) \u001b[38;5;241m+\u001b[39m \u001b[38;5;124m\"\u001b[39m\u001b[38;5;124mKB\u001b[39m\u001b[38;5;124m\"\u001b[39m\n\u001b[0;32m    231\u001b[0m         \u001b[38;5;28mprint\u001b[39m(\u001b[38;5;124m\"\u001b[39m\u001b[38;5;124mDownloading\u001b[39m\u001b[38;5;124m\"\u001b[39m, name, \u001b[38;5;124m\"\u001b[39m\u001b[38;5;124mfrom\u001b[39m\u001b[38;5;124m\"\u001b[39m, url,\n\u001b[0;32m    232\u001b[0m               \u001b[38;5;124m\"\u001b[39m\u001b[38;5;124m(\u001b[39m\u001b[38;5;124m\"\u001b[39m \u001b[38;5;241m+\u001b[39m length \u001b[38;5;241m+\u001b[39m \u001b[38;5;124m\"\u001b[39m\u001b[38;5;124m)...\u001b[39m\u001b[38;5;124m\"\u001b[39m, end\u001b[38;5;241m=\u001b[39m\u001b[38;5;124m\"\u001b[39m\u001b[38;5;124m \u001b[39m\u001b[38;5;124m\"\u001b[39m, flush\u001b[38;5;241m=\u001b[39m\u001b[38;5;28;01mTrue\u001b[39;00m)\n\u001b[1;32m--> 233\u001b[0m     \u001b[43mshutil\u001b[49m\u001b[38;5;241;43m.\u001b[39;49m\u001b[43mcopyfileobj\u001b[49m\u001b[43m(\u001b[49m\u001b[43mresponse\u001b[49m\u001b[43m,\u001b[49m\u001b[43m \u001b[49m\u001b[43mout_file\u001b[49m\u001b[43m)\u001b[49m\n\u001b[0;32m    235\u001b[0m \u001b[38;5;66;03m# post-process (extract) corpora\u001b[39;00m\n\u001b[0;32m    236\u001b[0m \u001b[38;5;28;01mif\u001b[39;00m name\u001b[38;5;241m.\u001b[39mstartswith(\u001b[38;5;124m\"\u001b[39m\u001b[38;5;124msubreddit\u001b[39m\u001b[38;5;124m\"\u001b[39m):\n",
      "File \u001b[1;32mC:\\Python310\\lib\\shutil.py:195\u001b[0m, in \u001b[0;36mcopyfileobj\u001b[1;34m(fsrc, fdst, length)\u001b[0m\n\u001b[0;32m    193\u001b[0m fdst_write \u001b[38;5;241m=\u001b[39m fdst\u001b[38;5;241m.\u001b[39mwrite\n\u001b[0;32m    194\u001b[0m \u001b[38;5;28;01mwhile\u001b[39;00m \u001b[38;5;28;01mTrue\u001b[39;00m:\n\u001b[1;32m--> 195\u001b[0m     buf \u001b[38;5;241m=\u001b[39m \u001b[43mfsrc_read\u001b[49m\u001b[43m(\u001b[49m\u001b[43mlength\u001b[49m\u001b[43m)\u001b[49m\n\u001b[0;32m    196\u001b[0m     \u001b[38;5;28;01mif\u001b[39;00m \u001b[38;5;129;01mnot\u001b[39;00m buf:\n\u001b[0;32m    197\u001b[0m         \u001b[38;5;28;01mbreak\u001b[39;00m\n",
      "File \u001b[1;32mC:\\Python310\\lib\\http\\client.py:465\u001b[0m, in \u001b[0;36mHTTPResponse.read\u001b[1;34m(self, amt)\u001b[0m\n\u001b[0;32m    462\u001b[0m \u001b[38;5;28;01mif\u001b[39;00m \u001b[38;5;28mself\u001b[39m\u001b[38;5;241m.\u001b[39mlength \u001b[38;5;129;01mis\u001b[39;00m \u001b[38;5;129;01mnot\u001b[39;00m \u001b[38;5;28;01mNone\u001b[39;00m \u001b[38;5;129;01mand\u001b[39;00m amt \u001b[38;5;241m>\u001b[39m \u001b[38;5;28mself\u001b[39m\u001b[38;5;241m.\u001b[39mlength:\n\u001b[0;32m    463\u001b[0m     \u001b[38;5;66;03m# clip the read to the \"end of response\"\u001b[39;00m\n\u001b[0;32m    464\u001b[0m     amt \u001b[38;5;241m=\u001b[39m \u001b[38;5;28mself\u001b[39m\u001b[38;5;241m.\u001b[39mlength\n\u001b[1;32m--> 465\u001b[0m s \u001b[38;5;241m=\u001b[39m \u001b[38;5;28;43mself\u001b[39;49m\u001b[38;5;241;43m.\u001b[39;49m\u001b[43mfp\u001b[49m\u001b[38;5;241;43m.\u001b[39;49m\u001b[43mread\u001b[49m\u001b[43m(\u001b[49m\u001b[43mamt\u001b[49m\u001b[43m)\u001b[49m\n\u001b[0;32m    466\u001b[0m \u001b[38;5;28;01mif\u001b[39;00m \u001b[38;5;129;01mnot\u001b[39;00m s \u001b[38;5;129;01mand\u001b[39;00m amt:\n\u001b[0;32m    467\u001b[0m     \u001b[38;5;66;03m# Ideally, we would raise IncompleteRead if the content-length\u001b[39;00m\n\u001b[0;32m    468\u001b[0m     \u001b[38;5;66;03m# wasn't satisfied, but it might break compatibility.\u001b[39;00m\n\u001b[0;32m    469\u001b[0m     \u001b[38;5;28mself\u001b[39m\u001b[38;5;241m.\u001b[39m_close_conn()\n",
      "File \u001b[1;32mC:\\Python310\\lib\\socket.py:705\u001b[0m, in \u001b[0;36mSocketIO.readinto\u001b[1;34m(self, b)\u001b[0m\n\u001b[0;32m    703\u001b[0m \u001b[38;5;28;01mwhile\u001b[39;00m \u001b[38;5;28;01mTrue\u001b[39;00m:\n\u001b[0;32m    704\u001b[0m     \u001b[38;5;28;01mtry\u001b[39;00m:\n\u001b[1;32m--> 705\u001b[0m         \u001b[38;5;28;01mreturn\u001b[39;00m \u001b[38;5;28;43mself\u001b[39;49m\u001b[38;5;241;43m.\u001b[39;49m\u001b[43m_sock\u001b[49m\u001b[38;5;241;43m.\u001b[39;49m\u001b[43mrecv_into\u001b[49m\u001b[43m(\u001b[49m\u001b[43mb\u001b[49m\u001b[43m)\u001b[49m\n\u001b[0;32m    706\u001b[0m     \u001b[38;5;28;01mexcept\u001b[39;00m timeout:\n\u001b[0;32m    707\u001b[0m         \u001b[38;5;28mself\u001b[39m\u001b[38;5;241m.\u001b[39m_timeout_occurred \u001b[38;5;241m=\u001b[39m \u001b[38;5;28;01mTrue\u001b[39;00m\n",
      "File \u001b[1;32mC:\\Python310\\lib\\ssl.py:1274\u001b[0m, in \u001b[0;36mSSLSocket.recv_into\u001b[1;34m(self, buffer, nbytes, flags)\u001b[0m\n\u001b[0;32m   1270\u001b[0m     \u001b[38;5;28;01mif\u001b[39;00m flags \u001b[38;5;241m!=\u001b[39m \u001b[38;5;241m0\u001b[39m:\n\u001b[0;32m   1271\u001b[0m         \u001b[38;5;28;01mraise\u001b[39;00m \u001b[38;5;167;01mValueError\u001b[39;00m(\n\u001b[0;32m   1272\u001b[0m           \u001b[38;5;124m\"\u001b[39m\u001b[38;5;124mnon-zero flags not allowed in calls to recv_into() on \u001b[39m\u001b[38;5;132;01m%s\u001b[39;00m\u001b[38;5;124m\"\u001b[39m \u001b[38;5;241m%\u001b[39m\n\u001b[0;32m   1273\u001b[0m           \u001b[38;5;28mself\u001b[39m\u001b[38;5;241m.\u001b[39m\u001b[38;5;18m__class__\u001b[39m)\n\u001b[1;32m-> 1274\u001b[0m     \u001b[38;5;28;01mreturn\u001b[39;00m \u001b[38;5;28;43mself\u001b[39;49m\u001b[38;5;241;43m.\u001b[39;49m\u001b[43mread\u001b[49m\u001b[43m(\u001b[49m\u001b[43mnbytes\u001b[49m\u001b[43m,\u001b[49m\u001b[43m \u001b[49m\u001b[43mbuffer\u001b[49m\u001b[43m)\u001b[49m\n\u001b[0;32m   1275\u001b[0m \u001b[38;5;28;01melse\u001b[39;00m:\n\u001b[0;32m   1276\u001b[0m     \u001b[38;5;28;01mreturn\u001b[39;00m \u001b[38;5;28msuper\u001b[39m()\u001b[38;5;241m.\u001b[39mrecv_into(buffer, nbytes, flags)\n",
      "File \u001b[1;32mC:\\Python310\\lib\\ssl.py:1130\u001b[0m, in \u001b[0;36mSSLSocket.read\u001b[1;34m(self, len, buffer)\u001b[0m\n\u001b[0;32m   1128\u001b[0m \u001b[38;5;28;01mtry\u001b[39;00m:\n\u001b[0;32m   1129\u001b[0m     \u001b[38;5;28;01mif\u001b[39;00m buffer \u001b[38;5;129;01mis\u001b[39;00m \u001b[38;5;129;01mnot\u001b[39;00m \u001b[38;5;28;01mNone\u001b[39;00m:\n\u001b[1;32m-> 1130\u001b[0m         \u001b[38;5;28;01mreturn\u001b[39;00m \u001b[38;5;28;43mself\u001b[39;49m\u001b[38;5;241;43m.\u001b[39;49m\u001b[43m_sslobj\u001b[49m\u001b[38;5;241;43m.\u001b[39;49m\u001b[43mread\u001b[49m\u001b[43m(\u001b[49m\u001b[38;5;28;43mlen\u001b[39;49m\u001b[43m,\u001b[49m\u001b[43m \u001b[49m\u001b[43mbuffer\u001b[49m\u001b[43m)\u001b[49m\n\u001b[0;32m   1131\u001b[0m     \u001b[38;5;28;01melse\u001b[39;00m:\n\u001b[0;32m   1132\u001b[0m         \u001b[38;5;28;01mreturn\u001b[39;00m \u001b[38;5;28mself\u001b[39m\u001b[38;5;241m.\u001b[39m_sslobj\u001b[38;5;241m.\u001b[39mread(\u001b[38;5;28mlen\u001b[39m)\n",
      "\u001b[1;31mKeyboardInterrupt\u001b[0m: "
     ]
    }
   ],
   "source": [
    "corpus = Corpus(filename=download(\"movie-corpus\"))"
   ]
  },
  {
   "cell_type": "code",
   "execution_count": 1,
   "id": "8009dd44",
   "metadata": {},
   "outputs": [],
   "source": [
    "import nltk"
   ]
  },
  {
   "cell_type": "code",
   "execution_count": 6,
   "id": "cba68fa3",
   "metadata": {},
   "outputs": [
    {
     "name": "stderr",
     "output_type": "stream",
     "text": [
      "[nltk_data] Downloading package stopwords to C:\\Users\\Tsuma\n",
      "[nltk_data]     Thomas\\AppData\\Roaming\\nltk_data...\n",
      "[nltk_data]   Unzipping corpora\\stopwords.zip.\n"
     ]
    },
    {
     "data": {
      "text/plain": [
       "True"
      ]
     },
     "execution_count": 6,
     "metadata": {},
     "output_type": "execute_result"
    }
   ],
   "source": [
    "nltk.download('stopwords')"
   ]
  },
  {
   "cell_type": "code",
   "execution_count": 7,
   "id": "74a44235",
   "metadata": {},
   "outputs": [],
   "source": [
    "from nltk.corpus import stopwords"
   ]
  },
  {
   "cell_type": "code",
   "execution_count": 10,
   "id": "9b35ce87",
   "metadata": {},
   "outputs": [
    {
     "data": {
      "text/plain": [
       "False"
      ]
     },
     "execution_count": 10,
     "metadata": {},
     "output_type": "execute_result"
    }
   ],
   "source": [
    "'explain' in stopwords.words('english')"
   ]
  },
  {
   "cell_type": "code",
   "execution_count": null,
   "id": "094c6cf0",
   "metadata": {},
   "outputs": [],
   "source": []
  }
 ],
 "metadata": {
  "kernelspec": {
   "display_name": "Python 3 (ipykernel)",
   "language": "python",
   "name": "python3"
  },
  "language_info": {
   "codemirror_mode": {
    "name": "ipython",
    "version": 3
   },
   "file_extension": ".py",
   "mimetype": "text/x-python",
   "name": "python",
   "nbconvert_exporter": "python",
   "pygments_lexer": "ipython3",
   "version": "3.10.7"
  }
 },
 "nbformat": 4,
 "nbformat_minor": 5
}
